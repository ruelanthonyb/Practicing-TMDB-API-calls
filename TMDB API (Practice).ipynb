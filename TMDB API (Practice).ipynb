{
 "cells": [
  {
   "cell_type": "markdown",
   "id": "59440af1",
   "metadata": {},
   "source": [
    "## TMDB API (Practice):\n",
    "### Project Planning\n",
    "As discussed in the previous lesson, for the next part of your project, you will extract financial and certification data from TMDB's API for your IMDB data set. You will use an OUTER and INNER loop: a loop within a loop!\n",
    "\n",
    "The OUTER loop will loop through the start years included in the IMDB data, filter the title basics data for the selected year, and save the list of movie ids from that year to retrieve in the inner loop.\n",
    "\n",
    "The INNER loop loops through every movie id from the selected year, extracts its results from the TMDB API, and appends them to a JSON file.\n",
    "\n",
    "### For this practice assignment\n",
    "You will be practicing the inner loop of API calls for a single year's list of movies from your IMDB title basics data. Specifically, you will extract the API results for every movie with a startYear of 2010.\n",
    "\n",
    "* Read the instructions below, including the examples in the \"Getting Started\" section, before starting your work.\n",
    "* Create a new notebook in your project repository called \"Practicing TMDB API calls.\"\n",
    "\n",
    "#### Preparation BEFORE the Loop:\n",
    "\n",
    "* Designate a folder to save your information.\n",
    "* Define custom functions you will use for your API calls\n",
    "* Load your cleaned title basics data from Part 1 of Project 2 (or query your title_basics table in your MySQL database).\n",
    "* Define the year you wish to retrieve (2010) and create an empty list for appending error messages.\n",
    "\n",
    "#### Prepare the DataFrame and JSON File\n",
    "\n",
    "* Use the selected year to define filenames and filter the data\n",
    "\n",
    "1. Define a JSON_FILE filename to save the results in progress.\n",
    "2. Check if the file exists.\n",
    "    * if it does not exist, create the empty JSON file with with open that just contains the key \"imdb_id\"\n",
    "    * if it exists, print a message saying that it already exists.\n",
    "\n",
    "Now that the JSON file for the results in progress exists:\n",
    "\n",
    "* Filter the IMDB title basics data for the selected year and save the movie IDs from that year as \"movies_ids\".\n",
    "* Check the JSON file for previously downloaded movie IDs and filter out the movie ids that already exists in the JSON file ( to prevent duplicate API calls) by:\n",
    "    * Loading in the contents of the JSON file pd.read_json.\n",
    "        * Compare the movie_ids that were in the JSON file to your saved movie_ids_to_get.\n",
    "    * Save the final list of \"movie_ids_to_get\" by filtering out movies that already exists in the JSON file.\n",
    "\n",
    "### Perform the Loop of API Calls\n",
    "\n",
    "Note: you have already written a function to combine the certification with the rest of the .info() from the TMDB API results in the Intro to TMDB API lesson.\n",
    "\n",
    "Create a loop to make API calls for each id in the YEAR specified. Include a progress bar using tqdm_notebook\n",
    "\n",
    "For each movie id:\n",
    "\n",
    "* Extract the current ID from the API and retrieve the dictionary of results\n",
    "* Append the new results to the list from the JSON file\n",
    "* Save the updated JSON file back to the disk\n",
    "\n",
    "### Save the Results to Compressed .csv\n",
    "\n",
    "* After the loop, save the final results for the year as a csv.gz file with the year in the filename.\n",
    "\n",
    "Note: at this point, you'll have completed the inner loop that you will need for the next part of the project."
   ]
  },
  {
   "cell_type": "markdown",
   "id": "1cdac419",
   "metadata": {},
   "source": [
    "### Install/Import Required Packages"
   ]
  },
  {
   "cell_type": "code",
   "execution_count": 2,
   "id": "5fafdb30",
   "metadata": {},
   "outputs": [
    {
     "name": "stdout",
     "output_type": "stream",
     "text": [
      "Collecting tmdbsimple\n",
      "  Obtaining dependency information for tmdbsimple from https://files.pythonhosted.org/packages/6c/dd/ade05d202db728b23e54aa0959622d090776023917e7308c1b2469a07b76/tmdbsimple-2.9.1-py3-none-any.whl.metadata\n",
      "  Downloading tmdbsimple-2.9.1-py3-none-any.whl.metadata (6.9 kB)\n",
      "Requirement already satisfied: requests in c:\\users\\bandi\\anaconda3\\lib\\site-packages (from tmdbsimple) (2.31.0)\n",
      "Requirement already satisfied: charset-normalizer<4,>=2 in c:\\users\\bandi\\anaconda3\\lib\\site-packages (from requests->tmdbsimple) (2.0.4)\n",
      "Requirement already satisfied: idna<4,>=2.5 in c:\\users\\bandi\\anaconda3\\lib\\site-packages (from requests->tmdbsimple) (3.4)\n",
      "Requirement already satisfied: urllib3<3,>=1.21.1 in c:\\users\\bandi\\anaconda3\\lib\\site-packages (from requests->tmdbsimple) (1.26.16)\n",
      "Requirement already satisfied: certifi>=2017.4.17 in c:\\users\\bandi\\anaconda3\\lib\\site-packages (from requests->tmdbsimple) (2023.7.22)\n",
      "Downloading tmdbsimple-2.9.1-py3-none-any.whl (38 kB)\n",
      "Installing collected packages: tmdbsimple\n",
      "Successfully installed tmdbsimple-2.9.1\n"
     ]
    }
   ],
   "source": [
    "# Install tmdbsimple (only need to run once)\n",
    "#!pip install tmdbsimple"
   ]
  },
  {
   "cell_type": "code",
   "execution_count": 3,
   "id": "7c55bac4",
   "metadata": {},
   "outputs": [],
   "source": [
    "# Import packages\n",
    "import os, time, json\n",
    "import tmdbsimple as tmdb \n",
    "import pandas as pd\n",
    "from tqdm.notebook import tqdm_notebook"
   ]
  },
  {
   "cell_type": "markdown",
   "id": "c6555342",
   "metadata": {},
   "source": [
    "### Load TMDB API Key & Add to tmdbsimple"
   ]
  },
  {
   "cell_type": "code",
   "execution_count": 8,
   "id": "88583827",
   "metadata": {},
   "outputs": [
    {
     "data": {
      "text/plain": [
       "dict_keys(['api-key', 'api-read-access-token'])"
      ]
     },
     "execution_count": 8,
     "metadata": {},
     "output_type": "execute_result"
    }
   ],
   "source": [
    "# Load API Credentials\n",
    "with open(r\"C:\\Users\\bandi\\.secret\\tmdb_api.json\") as f:\n",
    "    login = json.load(f)\n",
    "## Display the keys of the loaded dict\n",
    "login.keys()"
   ]
  },
  {
   "cell_type": "code",
   "execution_count": 9,
   "id": "6d045b5f",
   "metadata": {},
   "outputs": [],
   "source": [
    "# Importing tmdbsimple and setting the API_KEY\n",
    "import tmdbsimple as tmdb\n",
    "tmdb.API_KEY =  login['api-key']"
   ]
  },
  {
   "cell_type": "markdown",
   "id": "f1d15ef3",
   "metadata": {},
   "source": [
    "### Designate a folder"
   ]
  },
  {
   "cell_type": "code",
   "execution_count": 4,
   "id": "84bac09e",
   "metadata": {},
   "outputs": [],
   "source": [
    "# Create the folder for saving files (if it doesn't exist)\n",
    "FOLDER = \"Data/\"\n",
    "os.makedirs(FOLDER, exist_ok=True)"
   ]
  },
  {
   "cell_type": "code",
   "execution_count": 23,
   "id": "b4e6ad31",
   "metadata": {},
   "outputs": [
    {
     "data": {
      "text/plain": [
       "['final_tmdb_data_2010.csv.gz',\n",
       " 'title_basics_filtered.csv',\n",
       " 'tmdb_api_results_2010.json']"
      ]
     },
     "execution_count": 23,
     "metadata": {},
     "output_type": "execute_result"
    }
   ],
   "source": [
    "# Show the list of files included in the folder\n",
    "os.listdir(FOLDER)"
   ]
  },
  {
   "cell_type": "markdown",
   "id": "23a19ee4",
   "metadata": {},
   "source": [
    "### Define custom functions"
   ]
  },
  {
   "cell_type": "code",
   "execution_count": 10,
   "id": "754f28ca",
   "metadata": {},
   "outputs": [],
   "source": [
    "def get_movie_with_rating(movie_id):\n",
    "    # Get the movie object for the current id\n",
    "    movie = tmdb.Movies(movie_id)\n",
    "    \n",
    "    # save the .info .releases dictionaries\n",
    "    movie_info = movie.info()\n",
    "    releases = movie.releases()\n",
    "    \n",
    "    # Loop through countries in releases\n",
    "    for c in releases['countries']:\n",
    "        # if the country abbreviation==US\n",
    "        if c['iso_3166_1' ] =='US':\n",
    "            ## save a \"certification\" key in the info dict with the certification\n",
    "            movie_info['certification'] = c['certification']\n",
    "    return movie_info\n",
    "\n",
    "def write_json(new_data, filename): \n",
    "    \"\"\"Appends a list of records (new_data) to a json file (filename). \n",
    "    Adapted from: https://www.geeksforgeeks.org/append-to-json-file-using-python/\"\"\"  \n",
    "    \n",
    "    with open(filename,'r+') as file:\n",
    "        # First we load existing data into a dict.\n",
    "        file_data = json.load(file)\n",
    "        ## Choose extend or append\n",
    "        if (type(new_data) == list) & (type(file_data) == list):\n",
    "            file_data.extend(new_data)\n",
    "        else:\n",
    "             file_data.append(new_data)\n",
    "        # Sets file's current position at offset.\n",
    "        file.seek(0)\n",
    "        # convert back to json.\n",
    "        json.dump(file_data, file)"
   ]
  },
  {
   "cell_type": "markdown",
   "id": "e71c7295",
   "metadata": {},
   "source": [
    "#### Confirm Your API Function works!"
   ]
  },
  {
   "cell_type": "code",
   "execution_count": 11,
   "id": "d7daac6e",
   "metadata": {},
   "outputs": [
    {
     "data": {
      "text/plain": [
       "{'adult': False,\n",
       " 'backdrop_path': '/9BBTo63ANSmhC4e6r62OJFuK2GL.jpg',\n",
       " 'belongs_to_collection': {'id': 86311,\n",
       "  'name': 'The Avengers Collection',\n",
       "  'poster_path': '/yFSIUVTCvgYrpalUktulvk3Gi5Y.jpg',\n",
       "  'backdrop_path': '/zuW6fOiusv4X9nnW3paHGfXcSll.jpg'},\n",
       " 'budget': 220000000,\n",
       " 'genres': [{'id': 878, 'name': 'Science Fiction'},\n",
       "  {'id': 28, 'name': 'Action'},\n",
       "  {'id': 12, 'name': 'Adventure'}],\n",
       " 'homepage': 'https://www.marvel.com/movies/the-avengers',\n",
       " 'id': 24428,\n",
       " 'imdb_id': 'tt0848228',\n",
       " 'original_language': 'en',\n",
       " 'original_title': 'The Avengers',\n",
       " 'overview': 'When an unexpected enemy emerges and threatens global safety and security, Nick Fury, director of the international peacekeeping agency known as S.H.I.E.L.D., finds himself in need of a team to pull the world back from the brink of disaster. Spanning the globe, a daring recruitment effort begins!',\n",
       " 'popularity': 142.496,\n",
       " 'poster_path': '/RYMX2wcKCBAr24UyPD7xwmjaTn.jpg',\n",
       " 'production_companies': [{'id': 420,\n",
       "   'logo_path': '/hUzeosd33nzE5MCNsZxCGEKTXaQ.png',\n",
       "   'name': 'Marvel Studios',\n",
       "   'origin_country': 'US'}],\n",
       " 'production_countries': [{'iso_3166_1': 'US',\n",
       "   'name': 'United States of America'}],\n",
       " 'release_date': '2012-04-25',\n",
       " 'revenue': 1518815515,\n",
       " 'runtime': 143,\n",
       " 'spoken_languages': [{'english_name': 'English',\n",
       "   'iso_639_1': 'en',\n",
       "   'name': 'English'},\n",
       "  {'english_name': 'Hindi', 'iso_639_1': 'hi', 'name': 'हिन्दी'},\n",
       "  {'english_name': 'Russian', 'iso_639_1': 'ru', 'name': 'Pусский'}],\n",
       " 'status': 'Released',\n",
       " 'tagline': 'Some assembly required.',\n",
       " 'title': 'The Avengers',\n",
       " 'video': False,\n",
       " 'vote_average': 7.713,\n",
       " 'vote_count': 29799,\n",
       " 'certification': 'PG-13'}"
      ]
     },
     "execution_count": 11,
     "metadata": {},
     "output_type": "execute_result"
    }
   ],
   "source": [
    "# Testing function on \"The Avengers\" (id=\"tt0848228\"). What is its certification?\n",
    "test1 = get_movie_with_rating(\"tt0848228\") #put your function name here\n",
    "test1"
   ]
  },
  {
   "cell_type": "code",
   "execution_count": 12,
   "id": "2fbdbc73",
   "metadata": {},
   "outputs": [
    {
     "data": {
      "text/plain": [
       "{'adult': False,\n",
       " 'backdrop_path': '/qom1SZSENdmHFNZBXbtJAU0WTlC.jpg',\n",
       " 'belongs_to_collection': None,\n",
       " 'budget': 29000000,\n",
       " 'genres': [{'id': 10749, 'name': 'Romance'}, {'id': 18, 'name': 'Drama'}],\n",
       " 'homepage': 'http://www.newline.com/properties/notebookthe.html',\n",
       " 'id': 11036,\n",
       " 'imdb_id': 'tt0332280',\n",
       " 'original_language': 'en',\n",
       " 'original_title': 'The Notebook',\n",
       " 'overview': \"An epic love story centered around an older man who reads aloud to a woman with Alzheimer's. From a faded notebook, the old man's words bring to life the story about a couple who is separated by World War II, and is then passionately reunited, seven years later, after they have taken different paths.\",\n",
       " 'popularity': 75.114,\n",
       " 'poster_path': '/rNzQyW4f8B8cQeg7Dgj3n6eT5k9.jpg',\n",
       " 'production_companies': [{'id': 12,\n",
       "   'logo_path': '/iaYpEp3LQmb8AfAtmTvpqd4149c.png',\n",
       "   'name': 'New Line Cinema',\n",
       "   'origin_country': 'US'},\n",
       "  {'id': 1565, 'logo_path': None, 'name': 'Avery Pix', 'origin_country': 'US'},\n",
       "  {'id': 2605,\n",
       "   'logo_path': None,\n",
       "   'name': 'Gran Via Productions',\n",
       "   'origin_country': 'US'}],\n",
       " 'production_countries': [{'iso_3166_1': 'US',\n",
       "   'name': 'United States of America'}],\n",
       " 'release_date': '2004-06-25',\n",
       " 'revenue': 115600000,\n",
       " 'runtime': 123,\n",
       " 'spoken_languages': [{'english_name': 'English',\n",
       "   'iso_639_1': 'en',\n",
       "   'name': 'English'}],\n",
       " 'status': 'Released',\n",
       " 'tagline': 'Behind every great love is a great story.',\n",
       " 'title': 'The Notebook',\n",
       " 'video': False,\n",
       " 'vote_average': 7.889,\n",
       " 'vote_count': 10990,\n",
       " 'certification': 'PG-13'}"
      ]
     },
     "execution_count": 12,
     "metadata": {},
     "output_type": "execute_result"
    }
   ],
   "source": [
    "# Testing function on \"The Notebook\" (id=\"tt0332280\"). What is its certification?\n",
    "test2 = get_movie_with_rating(\"tt0332280\") #put your function name here\n",
    "test2"
   ]
  },
  {
   "cell_type": "markdown",
   "id": "9d56801f",
   "metadata": {},
   "source": [
    "### Load the Cleaned Title Basics data (from part 1)"
   ]
  },
  {
   "cell_type": "code",
   "execution_count": 14,
   "id": "0c088b5a",
   "metadata": {},
   "outputs": [
    {
     "data": {
      "text/html": [
       "<div>\n",
       "<style scoped>\n",
       "    .dataframe tbody tr th:only-of-type {\n",
       "        vertical-align: middle;\n",
       "    }\n",
       "\n",
       "    .dataframe tbody tr th {\n",
       "        vertical-align: top;\n",
       "    }\n",
       "\n",
       "    .dataframe thead th {\n",
       "        text-align: right;\n",
       "    }\n",
       "</style>\n",
       "<table border=\"1\" class=\"dataframe\">\n",
       "  <thead>\n",
       "    <tr style=\"text-align: right;\">\n",
       "      <th></th>\n",
       "      <th>tconst</th>\n",
       "      <th>titleType</th>\n",
       "      <th>primaryTitle</th>\n",
       "      <th>originalTitle</th>\n",
       "      <th>isAdult</th>\n",
       "      <th>startYear</th>\n",
       "      <th>endYear</th>\n",
       "      <th>runtimeMinutes</th>\n",
       "      <th>genres</th>\n",
       "    </tr>\n",
       "  </thead>\n",
       "  <tbody>\n",
       "    <tr>\n",
       "      <th>0</th>\n",
       "      <td>tt0035423</td>\n",
       "      <td>movie</td>\n",
       "      <td>Kate &amp; Leopold</td>\n",
       "      <td>Kate &amp; Leopold</td>\n",
       "      <td>0</td>\n",
       "      <td>2001.0</td>\n",
       "      <td>NaN</td>\n",
       "      <td>118.0</td>\n",
       "      <td>Comedy,Fantasy,Romance</td>\n",
       "    </tr>\n",
       "    <tr>\n",
       "      <th>1</th>\n",
       "      <td>tt0062336</td>\n",
       "      <td>movie</td>\n",
       "      <td>The Tango of the Widower and Its Distorting Mi...</td>\n",
       "      <td>El tango del viudo y su espejo deformante</td>\n",
       "      <td>0</td>\n",
       "      <td>2020.0</td>\n",
       "      <td>NaN</td>\n",
       "      <td>70.0</td>\n",
       "      <td>Drama</td>\n",
       "    </tr>\n",
       "    <tr>\n",
       "      <th>2</th>\n",
       "      <td>tt0069049</td>\n",
       "      <td>movie</td>\n",
       "      <td>The Other Side of the Wind</td>\n",
       "      <td>The Other Side of the Wind</td>\n",
       "      <td>0</td>\n",
       "      <td>2018.0</td>\n",
       "      <td>NaN</td>\n",
       "      <td>122.0</td>\n",
       "      <td>Drama</td>\n",
       "    </tr>\n",
       "    <tr>\n",
       "      <th>3</th>\n",
       "      <td>tt0088751</td>\n",
       "      <td>movie</td>\n",
       "      <td>The Naked Monster</td>\n",
       "      <td>The Naked Monster</td>\n",
       "      <td>0</td>\n",
       "      <td>2005.0</td>\n",
       "      <td>NaN</td>\n",
       "      <td>100.0</td>\n",
       "      <td>Comedy,Horror,Sci-Fi</td>\n",
       "    </tr>\n",
       "    <tr>\n",
       "      <th>4</th>\n",
       "      <td>tt0096056</td>\n",
       "      <td>movie</td>\n",
       "      <td>Crime and Punishment</td>\n",
       "      <td>Crime and Punishment</td>\n",
       "      <td>0</td>\n",
       "      <td>2002.0</td>\n",
       "      <td>NaN</td>\n",
       "      <td>126.0</td>\n",
       "      <td>Drama</td>\n",
       "    </tr>\n",
       "    <tr>\n",
       "      <th>...</th>\n",
       "      <td>...</td>\n",
       "      <td>...</td>\n",
       "      <td>...</td>\n",
       "      <td>...</td>\n",
       "      <td>...</td>\n",
       "      <td>...</td>\n",
       "      <td>...</td>\n",
       "      <td>...</td>\n",
       "      <td>...</td>\n",
       "    </tr>\n",
       "    <tr>\n",
       "      <th>104631</th>\n",
       "      <td>tt9915872</td>\n",
       "      <td>movie</td>\n",
       "      <td>The Last White Witch</td>\n",
       "      <td>My Girlfriend is a Wizard</td>\n",
       "      <td>0</td>\n",
       "      <td>2019.0</td>\n",
       "      <td>NaN</td>\n",
       "      <td>97.0</td>\n",
       "      <td>Comedy,Drama,Fantasy</td>\n",
       "    </tr>\n",
       "    <tr>\n",
       "      <th>104632</th>\n",
       "      <td>tt9916170</td>\n",
       "      <td>movie</td>\n",
       "      <td>The Rehearsal</td>\n",
       "      <td>O Ensaio</td>\n",
       "      <td>0</td>\n",
       "      <td>2019.0</td>\n",
       "      <td>NaN</td>\n",
       "      <td>51.0</td>\n",
       "      <td>Drama</td>\n",
       "    </tr>\n",
       "    <tr>\n",
       "      <th>104633</th>\n",
       "      <td>tt9916190</td>\n",
       "      <td>movie</td>\n",
       "      <td>Safeguard</td>\n",
       "      <td>Safeguard</td>\n",
       "      <td>0</td>\n",
       "      <td>2020.0</td>\n",
       "      <td>NaN</td>\n",
       "      <td>95.0</td>\n",
       "      <td>Action,Adventure,Thriller</td>\n",
       "    </tr>\n",
       "    <tr>\n",
       "      <th>104634</th>\n",
       "      <td>tt9916362</td>\n",
       "      <td>movie</td>\n",
       "      <td>Coven</td>\n",
       "      <td>Akelarre</td>\n",
       "      <td>0</td>\n",
       "      <td>2020.0</td>\n",
       "      <td>NaN</td>\n",
       "      <td>92.0</td>\n",
       "      <td>Drama,History</td>\n",
       "    </tr>\n",
       "    <tr>\n",
       "      <th>104635</th>\n",
       "      <td>tt9916428</td>\n",
       "      <td>movie</td>\n",
       "      <td>The Secret of China</td>\n",
       "      <td>Hong xing zhao yao Zhong guo</td>\n",
       "      <td>0</td>\n",
       "      <td>2019.0</td>\n",
       "      <td>NaN</td>\n",
       "      <td>NaN</td>\n",
       "      <td>Adventure,History,War</td>\n",
       "    </tr>\n",
       "  </tbody>\n",
       "</table>\n",
       "<p>104636 rows × 9 columns</p>\n",
       "</div>"
      ],
      "text/plain": [
       "           tconst titleType  \\\n",
       "0       tt0035423     movie   \n",
       "1       tt0062336     movie   \n",
       "2       tt0069049     movie   \n",
       "3       tt0088751     movie   \n",
       "4       tt0096056     movie   \n",
       "...           ...       ...   \n",
       "104631  tt9915872     movie   \n",
       "104632  tt9916170     movie   \n",
       "104633  tt9916190     movie   \n",
       "104634  tt9916362     movie   \n",
       "104635  tt9916428     movie   \n",
       "\n",
       "                                             primaryTitle  \\\n",
       "0                                          Kate & Leopold   \n",
       "1       The Tango of the Widower and Its Distorting Mi...   \n",
       "2                              The Other Side of the Wind   \n",
       "3                                       The Naked Monster   \n",
       "4                                    Crime and Punishment   \n",
       "...                                                   ...   \n",
       "104631                               The Last White Witch   \n",
       "104632                                      The Rehearsal   \n",
       "104633                                          Safeguard   \n",
       "104634                                              Coven   \n",
       "104635                                The Secret of China   \n",
       "\n",
       "                                    originalTitle  isAdult  startYear  \\\n",
       "0                                  Kate & Leopold        0     2001.0   \n",
       "1       El tango del viudo y su espejo deformante        0     2020.0   \n",
       "2                      The Other Side of the Wind        0     2018.0   \n",
       "3                               The Naked Monster        0     2005.0   \n",
       "4                            Crime and Punishment        0     2002.0   \n",
       "...                                           ...      ...        ...   \n",
       "104631                  My Girlfriend is a Wizard        0     2019.0   \n",
       "104632                                   O Ensaio        0     2019.0   \n",
       "104633                                  Safeguard        0     2020.0   \n",
       "104634                                   Akelarre        0     2020.0   \n",
       "104635               Hong xing zhao yao Zhong guo        0     2019.0   \n",
       "\n",
       "        endYear  runtimeMinutes                     genres  \n",
       "0           NaN           118.0     Comedy,Fantasy,Romance  \n",
       "1           NaN            70.0                      Drama  \n",
       "2           NaN           122.0                      Drama  \n",
       "3           NaN           100.0       Comedy,Horror,Sci-Fi  \n",
       "4           NaN           126.0                      Drama  \n",
       "...         ...             ...                        ...  \n",
       "104631      NaN            97.0       Comedy,Drama,Fantasy  \n",
       "104632      NaN            51.0                      Drama  \n",
       "104633      NaN            95.0  Action,Adventure,Thriller  \n",
       "104634      NaN            92.0              Drama,History  \n",
       "104635      NaN             NaN      Adventure,History,War  \n",
       "\n",
       "[104636 rows x 9 columns]"
      ]
     },
     "execution_count": 14,
     "metadata": {},
     "output_type": "execute_result"
    }
   ],
   "source": [
    "# Load in the dataframe from project part 1 as basics:\n",
    "basics = pd.read_csv('Data/title_basics_filtered.csv')\n",
    "basics"
   ]
  },
  {
   "cell_type": "markdown",
   "id": "7ece8fb8",
   "metadata": {},
   "source": [
    "### Define a variable with the year to Extract from the API"
   ]
  },
  {
   "cell_type": "code",
   "execution_count": 15,
   "id": "162a7f5d",
   "metadata": {},
   "outputs": [],
   "source": [
    "# Set the year to filter for\n",
    "YEAR = 2010\n",
    "\n",
    "# Create an empty list for saving errors\n",
    "errors = [ ]"
   ]
  },
  {
   "cell_type": "markdown",
   "id": "a2922766",
   "metadata": {},
   "source": [
    "### Prepare the DataFrame and JSON File"
   ]
  },
  {
   "cell_type": "markdown",
   "id": "cead6921",
   "metadata": {},
   "source": [
    "#### Select a JSON_FILE filename to save the results in progress"
   ]
  },
  {
   "cell_type": "code",
   "execution_count": 16,
   "id": "7f5af9f5",
   "metadata": {},
   "outputs": [
    {
     "name": "stdout",
     "output_type": "stream",
     "text": [
      "Creating Data/tmdb_api_results_2010.json for API results for year=2010.\n"
     ]
    }
   ],
   "source": [
    "# Define the JSON file to store results for the year\n",
    "JSON_FILE = f'{FOLDER}tmdb_api_results_{YEAR}.json'\n",
    "\n",
    "# Check if the JSON file exists\n",
    "file_exists = os.path.isfile(JSON_FILE)\n",
    "\n",
    "# If it does not exist: create it\n",
    "if file_exists == False:\n",
    "    # Print a message indicating the file is being created\n",
    "    print(f\"Creating {JSON_FILE} for API results for year={YEAR}.\")\n",
    "    \n",
    "    # save an empty dict with just \"imdb_id\" to the new json file.\n",
    "    with open(JSON_FILE,'w') as f:\n",
    "        json.dump([{'imdb_id':0}],f)\n",
    "\n",
    "# If it exists, print a message\n",
    "else:\n",
    "    print(f'The file {JSON_FILE} already exists.')"
   ]
  },
  {
   "cell_type": "markdown",
   "id": "26ab07aa",
   "metadata": {},
   "source": [
    "#### Filter for the selected year and save the movie ids"
   ]
  },
  {
   "cell_type": "code",
   "execution_count": 17,
   "id": "b828c6cf",
   "metadata": {},
   "outputs": [
    {
     "data": {
      "text/plain": [
       "1351    tt0230212\n",
       "4575    tt0312305\n",
       "5105    tt0326592\n",
       "5126    tt0326965\n",
       "5350    tt0331312\n",
       "Name: tconst, dtype: object"
      ]
     },
     "execution_count": 17,
     "metadata": {},
     "output_type": "execute_result"
    }
   ],
   "source": [
    "# Filtering for movies from selected startYear\n",
    "df = basics.loc[ basics['startYear']==YEAR].copy()\n",
    "# saving movie ids to list\n",
    "movie_ids = df['tconst']\n",
    "movie_ids.head()"
   ]
  },
  {
   "cell_type": "markdown",
   "id": "349cf3cf",
   "metadata": {},
   "source": [
    "### Check previous results and create the final list of movie_ids_to_get"
   ]
  },
  {
   "cell_type": "code",
   "execution_count": 18,
   "id": "076b721a",
   "metadata": {},
   "outputs": [
    {
     "data": {
      "text/html": [
       "<div>\n",
       "<style scoped>\n",
       "    .dataframe tbody tr th:only-of-type {\n",
       "        vertical-align: middle;\n",
       "    }\n",
       "\n",
       "    .dataframe tbody tr th {\n",
       "        vertical-align: top;\n",
       "    }\n",
       "\n",
       "    .dataframe thead th {\n",
       "        text-align: right;\n",
       "    }\n",
       "</style>\n",
       "<table border=\"1\" class=\"dataframe\">\n",
       "  <thead>\n",
       "    <tr style=\"text-align: right;\">\n",
       "      <th></th>\n",
       "      <th>imdb_id</th>\n",
       "    </tr>\n",
       "  </thead>\n",
       "  <tbody>\n",
       "    <tr>\n",
       "      <th>0</th>\n",
       "      <td>0</td>\n",
       "    </tr>\n",
       "  </tbody>\n",
       "</table>\n",
       "</div>"
      ],
      "text/plain": [
       "   imdb_id\n",
       "0        0"
      ]
     },
     "execution_count": 18,
     "metadata": {},
     "output_type": "execute_result"
    }
   ],
   "source": [
    "# Load existing data from json into a dataframe called \"previous_df\"\n",
    "previous_df = pd.read_json(JSON_FILE)\n",
    "previous_df"
   ]
  },
  {
   "cell_type": "code",
   "execution_count": 19,
   "id": "ba50c407",
   "metadata": {},
   "outputs": [],
   "source": [
    "# filter out any ids that are already in the JSON_FILE\n",
    "movie_ids_to_get = movie_ids[~movie_ids.isin(previous_df['imdb_id'])]"
   ]
  },
  {
   "cell_type": "markdown",
   "id": "a8b26012",
   "metadata": {},
   "source": [
    "### Start Loop Through Movie IDs"
   ]
  },
  {
   "cell_type": "code",
   "execution_count": 20,
   "id": "00c1e84a",
   "metadata": {},
   "outputs": [
    {
     "data": {
      "application/vnd.jupyter.widget-view+json": {
       "model_id": "464f8a56a9b3404181648260fdd00cf6",
       "version_major": 2,
       "version_minor": 0
      },
      "text/plain": [
       "Movies from 2010:   0%|          | 0/4354 [00:00<?, ?it/s]"
      ]
     },
     "metadata": {},
     "output_type": "display_data"
    }
   ],
   "source": [
    "# Loop through movie_ids_to_get with a tqdm progress bar\n",
    "for movie_id in tqdm_notebook(movie_ids_to_get, f\"Movies from {YEAR}\"):\n",
    "\n",
    "    # Attempt to retrieve then data for the movie id\n",
    "    try:\n",
    "        temp = get_movie_with_rating(movie_id)  #This uses your pre-ma    de function\n",
    "        # Append/extend results to existing file using a pre-made function\n",
    "        write_json(temp,JSON_FILE)\n",
    "        # Short 20 ms sleep to prevent overwhelming server\n",
    "        time.sleep(0.02)\n",
    "\n",
    "    # If it fails,  make a dict with just the id and None for certification.\n",
    "    except Exception as e:\n",
    "        errors.append([movie_id, e])"
   ]
  },
  {
   "cell_type": "markdown",
   "id": "6b10ff58",
   "metadata": {},
   "source": [
    "### After the Loop"
   ]
  },
  {
   "cell_type": "code",
   "execution_count": 21,
   "id": "0a655b8a",
   "metadata": {},
   "outputs": [
    {
     "name": "stdout",
     "output_type": "stream",
     "text": [
      "- Total errors: 1484\n"
     ]
    }
   ],
   "source": [
    "print(f\"- Total errors: {len(errors)}\")"
   ]
  },
  {
   "cell_type": "markdown",
   "id": "02a65977",
   "metadata": {},
   "source": [
    "### Save the year's results as csv.gz file"
   ]
  },
  {
   "cell_type": "code",
   "execution_count": 22,
   "id": "56b9ec82",
   "metadata": {},
   "outputs": [],
   "source": [
    "# Save the final results to a csv.gz file\n",
    "final_year_df = pd.read_json(JSON_FILE)\n",
    "\n",
    "csv_fname = f\"{FOLDER}final_tmdb_data_{YEAR}.csv.gz\"\n",
    "final_year_df.to_csv(csv_fname, compression=\"gzip\", index=False)"
   ]
  }
 ],
 "metadata": {
  "kernelspec": {
   "display_name": "Python (dojo-env)",
   "language": "python",
   "name": "dojo-env"
  },
  "language_info": {
   "codemirror_mode": {
    "name": "ipython",
    "version": 3
   },
   "file_extension": ".py",
   "mimetype": "text/x-python",
   "name": "python",
   "nbconvert_exporter": "python",
   "pygments_lexer": "ipython3",
   "version": "3.11.5"
  }
 },
 "nbformat": 4,
 "nbformat_minor": 5
}
